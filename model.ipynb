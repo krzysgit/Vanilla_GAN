{
 "cells": [
  {
   "cell_type": "code",
   "execution_count": null,
   "id": "b199dabf",
   "metadata": {},
   "outputs": [],
   "source": [
    "import torch\n",
    "import torch.nn as nn\n",
    "import torch.optim as optim\n",
    "from torch.utils.data import DataLoader\n",
    "from torchvision.utils import make_grid\n",
    "from torchvision import datasets, transforms\n",
    "import matplotlib.pyplot as plt\n",
    "import numpy as np\n",
    "import os\n",
    "from torchvision.utils import make_grid\n",
    "import os"
   ]
  },
  {
   "cell_type": "markdown",
   "id": "d9459990",
   "metadata": {},
   "source": [
    "# Hyperparameter initialization"
   ]
  },
  {
   "cell_type": "code",
   "execution_count": null,
   "id": "a6dc3529",
   "metadata": {},
   "outputs": [],
   "source": [
    "latent_dim = 100\n",
    "batch_size = 64\n",
    "lr = 0.0002\n",
    "num_epochs = 101\n",
    "g_steps = 1\n",
    "image_size = 28*28\n",
    "image_channels = 1\n",
    "hidden_dim_g = [512, 256,128]\n",
    "hidden_dim_d = [128,256, 512]\n",
    "dropout_rate = 0.3\n",
    "#smooth labels\n",
    "real_label_smooth = 0.9  # target for real images\n",
    "fake_label_smooth = 0.1  # target for fake images\n",
    "device = torch.device(\"cuda\" if torch.cuda.is_available() else \"cpu\")"
   ]
  },
  {
   "cell_type": "markdown",
   "id": "5b8ae704",
   "metadata": {},
   "source": [
    "### Plotting helpers"
   ]
  },
  {
   "cell_type": "code",
   "execution_count": null,
   "id": "53b6ef49",
   "metadata": {},
   "outputs": [],
   "source": [
    "def show_generated_images(generator, epoch=None, n=16):\n",
    "    generator.eval()\n",
    "    z = torch.randn(n, latent_dim).to(device)\n",
    "    with torch.no_grad():\n",
    "        fake_images = generator(z).view(n,1,28,28).cpu()\n",
    "    grid = make_grid(fake_images, nrow=4, normalize=True)\n",
    "    plt.figure(figsize=(4,4))\n",
    "    plt.imshow(grid.permute(1,2,0))\n",
    "    plt.axis(\"off\")\n",
    "    if epoch != None:\n",
    "        plt.title(f\"Epoch {epoch}\")\n",
    "    plt.show()\n",
    "    generator.train()"
   ]
  },
  {
   "cell_type": "code",
   "execution_count": null,
   "id": "ce89b728",
   "metadata": {},
   "outputs": [],
   "source": [
    "transform = transforms.Compose([\n",
    "    transforms.ToTensor(),\n",
    "    transforms.Normalize((0.5,),(0.5,))\n",
    "])\n",
    "mnist_train = datasets.MNIST(root='./training/data', train=True, download=True, transform=transform)\n",
    "train_loader = DataLoader(mnist_train, batch_size=batch_size, shuffle=True, num_workers=2)"
   ]
  },
  {
   "cell_type": "markdown",
   "id": "61a7e432",
   "metadata": {},
   "source": [
    "# Model architecture"
   ]
  },
  {
   "cell_type": "code",
   "execution_count": null,
   "id": "283772e3",
   "metadata": {},
   "outputs": [],
   "source": [
    "class Generator(nn.Module):\n",
    "    def __init__(self, latent_dim=latent_dim, hidden_dim_g=hidden_dim_g):\n",
    "        super().__init__()\n",
    "        layers = []\n",
    "        in_dim = latent_dim\n",
    "        for h_dim in hidden_dim_g:\n",
    "            layers.append(nn.Linear(in_dim, h_dim))\n",
    "            layers.append(nn.BatchNorm1d(h_dim))\n",
    "            layers.append(nn.ReLU())\n",
    "            in_dim = h_dim\n",
    "        layers.append(nn.Linear(in_dim, 784))\n",
    "        layers.append(nn.Tanh())\n",
    "        self.model = nn.Sequential(*layers)\n",
    "    def forward(self, z):\n",
    "        return self.model(z)\n",
    "'''class Discriminator(nn.Module):\n",
    "\n",
    "Inputting and saving a long list of digits\n",
    "\n",
    "    def __init__(self, hidden_dim_d=hidden_dim_d):\n",
    "        super().__init__()\n",
    "        layers = []\n",
    "        in_dim = 784\n",
    "            \n",
    "        for hidden_dimension_d in hidden_dim_d[0:-1]:\n",
    "            layers.append(nn.Linear(in_dim,hidden_dimension_d))\n",
    "            layers.append(nn.BatchNorm1d(hidden_dimension_d))\n",
    "            layers.append(nn.LeakyReLU(0.2))\n",
    "            layers.append(nn.Dropout(0.3))\n",
    "            in_dim = hidden_dimension_d\n",
    "        layers.append(nn.Linear(in_dim, hidden_dim_d[-1]))\n",
    "        layers.append(nn.LeakyReLU(0.2))\n",
    "        layers.append(nn.Linear(hidden_dim_d[-1],1))\n",
    "        layers.append(nn.Sigmoid())\n",
    "        self.model = nn.Sequential(*layers)\n",
    "    def forward(self, x):\n",
    "        x = x.view(x.size(0), -1)\n",
    "        return self.model(x)'''\n",
    "class Discriminator(nn.Module):\n",
    "    def __init__(self, hidden_dim_d=hidden_dim_d):\n",
    "        super().__init__()\n",
    "        layers = []\n",
    "        in_dim = 784\n",
    "        \n",
    "        # First layer\n",
    "        layers.append(nn.Linear(in_dim, hidden_dim_d[0]))\n",
    "        layers.append(nn.LeakyReLU(0.2))\n",
    "        layers.append(nn.Dropout(dropout_rate))\n",
    "        in_dim = hidden_dim_d[0]\n",
    "        \n",
    "        # Middle layers\n",
    "        for hidden_dimension_d in hidden_dim_d[1:-1]:\n",
    "            layers.append(nn.Linear(in_dim, hidden_dimension_d))\n",
    "            layers.append(nn.BatchNorm1d(hidden_dimension_d))\n",
    "            layers.append(nn.LeakyReLU(0.2))\n",
    "            layers.append(nn.Dropout(dropout_rate))\n",
    "            in_dim = hidden_dimension_d\n",
    "        \n",
    "        # Last hidden layer\n",
    "        layers.append(nn.Linear(in_dim, hidden_dim_d[-1]))\n",
    "        layers.append(nn.LeakyReLU(0.2))\n",
    "        \n",
    "        # Output layer\n",
    "        layers.append(nn.Linear(hidden_dim_d[-1], 1))\n",
    "        # we will use BCEWithLogitsLoss\n",
    "        \n",
    "        self.model = nn.Sequential(*layers)\n",
    "    \n",
    "    def forward(self, x):\n",
    "        x = x.view(x.size(0), -1)\n",
    "        return self.model(x)"
   ]
  },
  {
   "cell_type": "markdown",
   "id": "e338dfcc",
   "metadata": {},
   "source": [
    "## Create generator and discriminator instances"
   ]
  },
  {
   "cell_type": "code",
   "execution_count": null,
   "id": "febb4035",
   "metadata": {},
   "outputs": [],
   "source": [
    "generator = Generator()\n",
    "discriminator = Discriminator()"
   ]
  },
  {
   "cell_type": "markdown",
   "id": "6da102ce",
   "metadata": {},
   "source": [
    "# Training"
   ]
  },
  {
   "cell_type": "code",
   "execution_count": null,
   "id": "983ed4ee",
   "metadata": {},
   "outputs": [],
   "source": [
    "def train_discriminator(real_images):\n",
    "    batch_size = real_images.size(0)\n",
    "    real_images = real_images.view(batch_size, -1).to(device)\n",
    "    real_labels = torch.full((batch_size, 1), real_label_smooth, device=device)\n",
    "    fake_labels = torch.full((batch_size, 1), fake_label_smooth, device=device)\n",
    "    \n",
    "    z = torch.randn(batch_size, latent_dim).to(device)\n",
    "    fake_images = generator(z)\n",
    "\n",
    "    real_images += 0.1 * torch.randn_like(real_images)\n",
    "    fake_images += 0.1 * torch.randn_like(fake_images)\n",
    "\n",
    "    real_pred = discriminator(real_images)\n",
    "    fake_pred = discriminator(fake_images.detach())\n",
    "\n",
    "    real_loss = loss_fn(real_pred, real_labels)\n",
    "    fake_loss = loss_fn(fake_pred, fake_labels)\n",
    "    d_loss = real_loss + fake_loss\n",
    "\n",
    "    discriminatorOptimizer.zero_grad()\n",
    "    d_loss.backward()\n",
    "    discriminatorOptimizer.step()\n",
    "\n",
    "    return d_loss.item()\n",
    "\n",
    "def train_generator(batch_size):\n",
    "    z = torch.randn(batch_size, latent_dim).to(device)\n",
    "    fake_images = generator(z)\n",
    "    fake_pred = discriminator(fake_images)\n",
    "    real_labels = torch.full((batch_size, 1), real_label_smooth, device=device)\n",
    "    g_loss = loss_fn(fake_pred, real_labels)\n",
    "\n",
    "    generatorOptimizer.zero_grad()\n",
    "    g_loss.backward()\n",
    "    generatorOptimizer.step()\n",
    "\n",
    "    return g_loss.item()\n",
    "\n",
    "generator.to(device)\n",
    "discriminator.to(device)\n",
    "loss_fn = nn.BCEWithLogitsLoss()\n",
    "\n",
    "g_losses = []\n",
    "d_losses = []\n",
    "\n",
    "checkpoint_dir = \"checkpoints\"\n",
    "os.makedirs(checkpoint_dir, exist_ok=True)\n",
    "\n",
    "generatorOptimizer = optim.Adam(generator.parameters(), lr=lr, betas=(0.5, 0.999))\n",
    "discriminatorOptimizer = optim.Adam(discriminator.parameters(), lr=lr, betas=(0.5, 0.999))\n",
    "\n",
    "generator.train()\n",
    "discriminator.train()\n",
    "\n",
    "for epoch in range(num_epochs):\n",
    "    for real_images, _ in train_loader:\n",
    "        real_images = real_images.to(device)\n",
    "\n",
    "        d_loss = train_discriminator(real_images)\n",
    "        d_losses.append(d_loss)\n",
    "\n",
    "        for _ in range(g_steps):\n",
    "            batch_size = real_images.size(0)\n",
    "            g_loss = train_generator(batch_size)\n",
    "            g_losses.append(g_loss)\n",
    "\n",
    "    if epoch % 5 == 0:\n",
    "        show_generated_images(generator, epoch)\n",
    "\n",
    "    if epoch % 10 == 0:\n",
    "        torch.save(generator.state_dict(), f\"{checkpoint_dir}/generator_epoch_{epoch}.pt\")\n",
    "        torch.save(discriminator.state_dict(), f\"{checkpoint_dir}/discriminator_epoch_{epoch}.pt\")\n"
   ]
  },
  {
   "cell_type": "markdown",
   "id": "7399c468",
   "metadata": {},
   "source": [
    "## Plot loss after training"
   ]
  },
  {
   "cell_type": "code",
   "execution_count": null,
   "id": "e1a8c5cc",
   "metadata": {},
   "outputs": [],
   "source": [
    "import math\n",
    "g_aggragated = np.array(g_losses).reshape(num_epochs, -1).mean(axis=1)\n",
    "d_aggragated = np.array(d_losses).reshape(num_epochs, -1).mean(axis=1)\n",
    "plt.plot(g_aggragated, label=\"Generator Loss\")\n",
    "plt.plot(d_aggragated, label=\"Discriminator Loss\")\n",
    "plt.xlabel(\"Iteration\")\n",
    "plt.ylabel(\"Loss\")\n",
    "plt.legend()\n",
    "plt.show()"
   ]
  },
  {
   "cell_type": "markdown",
   "id": "0edabf9e",
   "metadata": {},
   "source": [
    "## Load an existing generator"
   ]
  },
  {
   "cell_type": "code",
   "execution_count": null,
   "id": "c14a9fa9",
   "metadata": {},
   "outputs": [],
   "source": [
    "generator = Generator()\n",
    "generator.load_state_dict(torch.load(\"trained models/model.pt\"))\n",
    "generator.to(device)"
   ]
  },
  {
   "cell_type": "markdown",
   "id": "6d904ab8",
   "metadata": {},
   "source": [
    "## Generate images"
   ]
  },
  {
   "cell_type": "code",
   "execution_count": null,
   "id": "e5fcba48",
   "metadata": {},
   "outputs": [],
   "source": [
    "show_generated_images(generator)"
   ]
  }
 ],
 "metadata": {
  "kernelspec": {
   "display_name": "ai-env",
   "language": "python",
   "name": "python3"
  },
  "language_info": {
   "codemirror_mode": {
    "name": "ipython",
    "version": 3
   },
   "file_extension": ".py",
   "mimetype": "text/x-python",
   "name": "python",
   "nbconvert_exporter": "python",
   "pygments_lexer": "ipython3",
   "version": "3.10.16"
  }
 },
 "nbformat": 4,
 "nbformat_minor": 5
}
